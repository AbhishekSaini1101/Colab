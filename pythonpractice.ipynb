{
  "nbformat": 4,
  "nbformat_minor": 0,
  "metadata": {
    "colab": {
      "provenance": [],
      "authorship_tag": "ABX9TyOvCFAc0/FsDe/g2aX7bvyg",
      "include_colab_link": true
    },
    "kernelspec": {
      "name": "python3",
      "display_name": "Python 3"
    },
    "language_info": {
      "name": "python"
    }
  },
  "cells": [
    {
      "cell_type": "markdown",
      "metadata": {
        "id": "view-in-github",
        "colab_type": "text"
      },
      "source": [
        "<a href=\"https://colab.research.google.com/github/AbhishekSaini1101/Colab/blob/main/pythonpractice.ipynb\" target=\"_parent\"><img src=\"https://colab.research.google.com/assets/colab-badge.svg\" alt=\"Open In Colab\"/></a>"
      ]
    },
    {
      "cell_type": "code",
      "execution_count": null,
      "metadata": {
        "colab": {
          "base_uri": "https://localhost:8080/"
        },
        "id": "_tDairrfdNii",
        "outputId": "c2464c87-682d-4fe4-d699-377a4dc32b84"
      },
      "outputs": [
        {
          "output_type": "stream",
          "name": "stdout",
          "text": [
            "132221714334992\n"
          ]
        }
      ],
      "source": [
        "x = 34\n",
        "print(id(x)) #Here id is used to show the location of variable"
      ]
    },
    {
      "cell_type": "code",
      "source": [],
      "metadata": {
        "id": "ObNB0Dk_e4Tm"
      },
      "execution_count": null,
      "outputs": []
    },
    {
      "cell_type": "code",
      "source": [
        "x = 34; y = 3.4\n",
        "\n",
        "print(x+y)\n",
        "#Implicit type conversion ( when language itself convert the type)\n",
        "#Here 34 is int and 3.4 is float\n",
        "#When we added int + float we got the ans in Int\n",
        "\n",
        "Number = int(input(\"Enter any number\"))\n",
        "#Input function takes input in string from user.\n",
        "#We convert Str to int\n",
        "#Explicit type conversion when user tells language to convert data type."
      ],
      "metadata": {
        "id": "3AAmXXTkdgYj"
      },
      "execution_count": null,
      "outputs": []
    },
    {
      "cell_type": "code",
      "source": [
        "X = [1,2,3,4,5,6]\n",
        "X.append([7,8])\n",
        "X.append(7)\n",
        "print(X)\n",
        "\n",
        "#append function increases One element in list. [7,8] as single member, 7 is also single."
      ],
      "metadata": {
        "colab": {
          "base_uri": "https://localhost:8080/"
        },
        "id": "0YKpUxVOKdwr",
        "outputId": "94894dc1-3f68-4a80-9b5b-512ee4781e07"
      },
      "execution_count": 5,
      "outputs": [
        {
          "output_type": "stream",
          "name": "stdout",
          "text": [
            "[1, 2, 3, 4, 5, 6, [7, 8], 7]\n"
          ]
        }
      ]
    },
    {
      "cell_type": "code",
      "source": [
        "X.extend([8,9,10])\n",
        "print(X)\n",
        "\n",
        "#extend adds multiple member at the end of the list"
      ],
      "metadata": {
        "colab": {
          "base_uri": "https://localhost:8080/"
        },
        "id": "CNicR7EhK1fa",
        "outputId": "88ea9c4e-6509-497d-9026-27cbc50166d6"
      },
      "execution_count": 8,
      "outputs": [
        {
          "output_type": "stream",
          "name": "stdout",
          "text": [
            "[1, 2, 3, 4, 5, 6, [7, 8], 7, 8, 9, 10, 8, 9, 10]\n"
          ]
        }
      ]
    },
    {
      "cell_type": "code",
      "source": [
        "Name = \"Abhishek Saini\"\n",
        "Email = \"abhishek.saini2k1@gmail.com\"\n",
        "#Now we have to print abhishek from gmail\n",
        "\n",
        "print(Email[0:Email.index(\"@\")])"
      ],
      "metadata": {
        "colab": {
          "base_uri": "https://localhost:8080/"
        },
        "id": "kSPUN82kMtNm",
        "outputId": "b58fd858-56a8-48c7-b9b1-32c1e7846c3a"
      },
      "execution_count": 11,
      "outputs": [
        {
          "output_type": "stream",
          "name": "stdout",
          "text": [
            "abhishek.saini2k1\n"
          ]
        }
      ]
    },
    {
      "cell_type": "code",
      "source": [
        "#Append, Extend\n",
        "#Delete - using index, Remove- using element, Pop-delete last element\n",
        "#Insert(index num, \"Element\")"
      ],
      "metadata": {
        "id": "lW8w8HKYNdYr"
      },
      "execution_count": null,
      "outputs": []
    },
    {
      "cell_type": "code",
      "source": [
        "# Q1 - remove duplicates and create a new list\n",
        "\n",
        "L1 = [1,1,2,2,3,4,5,5,6,6]\n",
        "L = []\n",
        "\n",
        "for i in L1:\n",
        "  if i not in L:\n",
        "    L.append(i)\n",
        "print(L)\n"
      ],
      "metadata": {
        "colab": {
          "base_uri": "https://localhost:8080/"
        },
        "id": "XysDgQZ-OrHn",
        "outputId": "f57d5e3f-62ba-4e08-c347-bbc85e062a59"
      },
      "execution_count": 7,
      "outputs": [
        {
          "output_type": "stream",
          "name": "stdout",
          "text": [
            "[1, 2, 3, 4, 5, 6]\n"
          ]
        }
      ]
    },
    {
      "cell_type": "code",
      "source": [
        "#TUPLES\n",
        "#odered, unchangable, duplicates are allowed.\n",
        "#add, deleting tuple single value, Edit are not possible in Tuple\n",
        "#Tuple splits the member like \"G\", \"o\", \"a\" while list consider as \"Goa\" single member\n",
        "\n",
        "T = (1,2,4,3,5,\"RAM\")\n",
        "\n",
        "print(T)\n",
        "print(T[1])  #access using index value\n",
        "\n",
        "T1 = tuple(\"Goa\")\n",
        "print(T1)\n",
        "\n",
        "T2 = (2,3,45,3,6,7)\n",
        "\n",
        "L1 =[\"Goa\"]\n",
        "print(L1)\n",
        "\n",
        "#Below scenario is not possible\n",
        "# T1[1]= \"P\"\n",
        "# print(T1)\n",
        "#TypeError: 'tuple' object does not support item assignment"
      ],
      "metadata": {
        "colab": {
          "base_uri": "https://localhost:8080/"
        },
        "id": "onauRvnF2XWL",
        "outputId": "a84e33d3-795a-4552-a1c5-af627a0863ac"
      },
      "execution_count": 30,
      "outputs": [
        {
          "output_type": "stream",
          "name": "stdout",
          "text": [
            "(1, 2, 4, 3, 5, 'RAM')\n",
            "2\n",
            "('G', 'o', 'a')\n",
            "['Goa']\n"
          ]
        }
      ]
    },
    {
      "cell_type": "code",
      "source": [
        "sorted(T2)\n",
        "sorted(T2,reverse=True)\n"
      ],
      "metadata": {
        "colab": {
          "base_uri": "https://localhost:8080/"
        },
        "id": "avDLqQv276Ep",
        "outputId": "be5d6e70-666b-4e0e-bbf3-b92b928801b7"
      },
      "execution_count": 28,
      "outputs": [
        {
          "output_type": "execute_result",
          "data": {
            "text/plain": [
              "[45, 7, 6, 3, 3, 2]"
            ]
          },
          "metadata": {},
          "execution_count": 28
        }
      ]
    },
    {
      "cell_type": "code",
      "source": [
        "#SETS\n",
        "#unordered, unchangable, duplicates not allowed\n",
        "#No indexing ( can't delete nor access any particular member )\n",
        "\n",
        "# S={} it is by default Dict because dict also uses {}\n",
        "S = {1,2,3,4,5,6,7,8,9,10}\n",
        "S.add(11)\n",
        "print(S)\n",
        "id(S)\n",
        "s = sorted(S, reverse=True)\n",
        "print(s)\n",
        "\n",
        "S2 = {4,12,13,14,5,6}\n",
        "print(S.union(S2))\n",
        "print(S.intersection(S2))"
      ],
      "metadata": {
        "colab": {
          "base_uri": "https://localhost:8080/"
        },
        "id": "y2ZLeAVALnq7",
        "outputId": "225d1073-3208-465d-c82e-9416fec9c1e9"
      },
      "execution_count": 45,
      "outputs": [
        {
          "output_type": "stream",
          "name": "stdout",
          "text": [
            "{1, 2, 3, 4, 5, 6, 7, 8, 9, 10, 11}\n",
            "[11, 10, 9, 8, 7, 6, 5, 4, 3, 2, 1]\n",
            "{1, 2, 3, 4, 5, 6, 7, 8, 9, 10, 11, 12, 13, 14}\n",
            "{4, 5, 6}\n"
          ]
        }
      ]
    }
  ]
}