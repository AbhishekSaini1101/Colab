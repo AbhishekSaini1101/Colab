{
  "nbformat": 4,
  "nbformat_minor": 0,
  "metadata": {
    "colab": {
      "provenance": [],
      "gpuType": "T4",
      "authorship_tag": "ABX9TyOQsgLQz4fgpdiXuxEG33DQ",
      "include_colab_link": true
    },
    "kernelspec": {
      "name": "python3",
      "display_name": "Python 3"
    },
    "language_info": {
      "name": "python"
    },
    "accelerator": "GPU"
  },
  "cells": [
    {
      "cell_type": "markdown",
      "metadata": {
        "id": "view-in-github",
        "colab_type": "text"
      },
      "source": [
        "<a href=\"https://colab.research.google.com/github/AbhishekSaini1101/Colab/blob/main/PythonPractice.ipynb\" target=\"_parent\"><img src=\"https://colab.research.google.com/assets/colab-badge.svg\" alt=\"Open In Colab\"/></a>"
      ]
    },
    {
      "cell_type": "code",
      "source": [
        "\n"
      ],
      "metadata": {
        "id": "YHYurWYjf5Yf"
      },
      "execution_count": 47,
      "outputs": []
    },
    {
      "cell_type": "code",
      "execution_count": 48,
      "metadata": {
        "id": "_tDairrfdNii",
        "colab": {
          "base_uri": "https://localhost:8080/"
        },
        "outputId": "2d5ba290-e454-4846-be34-91194e764a40"
      },
      "outputs": [
        {
          "output_type": "stream",
          "name": "stdout",
          "text": [
            "134513856513296\n"
          ]
        }
      ],
      "source": [
        "x = 34\n",
        "print(id(x)) #Here id is used to show the location of variable"
      ]
    },
    {
      "cell_type": "code",
      "source": [],
      "metadata": {
        "id": "ObNB0Dk_e4Tm"
      },
      "execution_count": 48,
      "outputs": []
    },
    {
      "cell_type": "code",
      "source": [
        "x = 34; y = 3.4\n",
        "\n",
        "print(x+y)\n",
        "#Implicit type conversion ( when language itself convert the type)\n",
        "#Here 34 is int and 3.4 is float\n",
        "#When we added int + float we got the ans in Int\n",
        "\n",
        "Number = int(input(\"Enter any number\"))\n",
        "#Input function takes input in string from user.\n",
        "#We convert Str to int\n",
        "#Explicit type conversion when user tells language to convert data type."
      ],
      "metadata": {
        "id": "3AAmXXTkdgYj",
        "outputId": "6a55f152-ff21-4f4a-8d70-6ab812a091f8",
        "colab": {
          "base_uri": "https://localhost:8080/"
        }
      },
      "execution_count": 49,
      "outputs": [
        {
          "name": "stdout",
          "output_type": "stream",
          "text": [
            "37.4\n",
            "Enter any number3\n"
          ]
        }
      ]
    },
    {
      "cell_type": "code",
      "source": [
        "#One dimensional List\n",
        "L1 = [1, 2,3,4]\n",
        "print(L1[2])\n",
        "\n",
        "#Two dimensional list\n",
        "#List inside list\n",
        "L2 = [1,2,[3,4], [5,6,7]]\n",
        "print(L2[0])\n",
        "print(L2[3][0])\n",
        "\n",
        "TempL = L2[3]\n",
        "print(TempL[0])\n",
        "\n",
        "#Multi Dimensional List\n",
        "L4 = [[0,1],[[2,3],[4,5]]]\n",
        "#we need to print 4 from List\n",
        "print(L4[1][1][0])"
      ],
      "metadata": {
        "id": "jLl94Hndq9BO",
        "colab": {
          "base_uri": "https://localhost:8080/"
        },
        "outputId": "48945198-1f74-4bc5-e679-590c6054f927"
      },
      "execution_count": 50,
      "outputs": [
        {
          "output_type": "stream",
          "name": "stdout",
          "text": [
            "3\n",
            "1\n",
            "5\n",
            "5\n",
            "4\n"
          ]
        }
      ]
    },
    {
      "cell_type": "markdown",
      "source": [
        "NUMPY"
      ],
      "metadata": {
        "id": "Aj-g6P8MxzQQ"
      }
    },
    {
      "cell_type": "code",
      "source": [
        "import numpy as np\n",
        "\n",
        "L = [1,2,3,4,5,6,7,8,9,10]\n",
        "print(L)\n",
        "\n",
        "arr = np.array(L)\n",
        "print(arr)"
      ],
      "metadata": {
        "id": "kVszur57xwx_",
        "colab": {
          "base_uri": "https://localhost:8080/"
        },
        "outputId": "6bc4e258-2f14-4880-be15-a5a825fe2172"
      },
      "execution_count": 51,
      "outputs": [
        {
          "output_type": "stream",
          "name": "stdout",
          "text": [
            "[1, 2, 3, 4, 5, 6, 7, 8, 9, 10]\n",
            "[ 1  2  3  4  5  6  7  8  9 10]\n"
          ]
        }
      ]
    },
    {
      "cell_type": "code",
      "source": [
        "type(arr)"
      ],
      "metadata": {
        "id": "XkV5sIfJy0CI",
        "colab": {
          "base_uri": "https://localhost:8080/"
        },
        "outputId": "4b498b0e-8e26-498d-c4e5-6301ae9966f6"
      },
      "execution_count": 52,
      "outputs": [
        {
          "output_type": "execute_result",
          "data": {
            "text/plain": [
              "numpy.ndarray"
            ]
          },
          "metadata": {},
          "execution_count": 52
        }
      ]
    },
    {
      "cell_type": "code",
      "source": [
        "L1 = [1,2,3,4,5]\n",
        "L2 = [6,7,8,9,10]\n",
        "L3 = [11,12,13,14,15]\n",
        "\n",
        "#arr = np.array(L1)\n",
        "arr = np.array([L1, L2, L3])"
      ],
      "metadata": {
        "id": "30_VPVxQzD_Y"
      },
      "execution_count": 53,
      "outputs": []
    },
    {
      "cell_type": "code",
      "source": [
        "arr"
      ],
      "metadata": {
        "id": "bhnh80JtzGRq",
        "colab": {
          "base_uri": "https://localhost:8080/"
        },
        "outputId": "9492f59c-f869-4efa-a8a9-944904bebef7"
      },
      "execution_count": 54,
      "outputs": [
        {
          "output_type": "execute_result",
          "data": {
            "text/plain": [
              "array([[ 1,  2,  3,  4,  5],\n",
              "       [ 6,  7,  8,  9, 10],\n",
              "       [11, 12, 13, 14, 15]])"
            ]
          },
          "metadata": {},
          "execution_count": 54
        }
      ]
    },
    {
      "cell_type": "code",
      "source": [
        "arr.shape"
      ],
      "metadata": {
        "id": "2aOC1Sfw01_s",
        "colab": {
          "base_uri": "https://localhost:8080/"
        },
        "outputId": "83bd345c-1104-4241-8d5a-13fc8c828397"
      },
      "execution_count": 55,
      "outputs": [
        {
          "output_type": "execute_result",
          "data": {
            "text/plain": [
              "(3, 5)"
            ]
          },
          "metadata": {},
          "execution_count": 55
        }
      ]
    },
    {
      "cell_type": "code",
      "source": [
        "  arr.reshape(5,3)"
      ],
      "metadata": {
        "id": "GqD3JuOL1AFs",
        "colab": {
          "base_uri": "https://localhost:8080/"
        },
        "outputId": "e99595f5-1102-4a6d-ae37-40cce6034249"
      },
      "execution_count": 56,
      "outputs": [
        {
          "output_type": "execute_result",
          "data": {
            "text/plain": [
              "array([[ 1,  2,  3],\n",
              "       [ 4,  5,  6],\n",
              "       [ 7,  8,  9],\n",
              "       [10, 11, 12],\n",
              "       [13, 14, 15]])"
            ]
          },
          "metadata": {},
          "execution_count": 56
        }
      ]
    },
    {
      "cell_type": "markdown",
      "source": [
        "# --------**-Indexing**----------------"
      ],
      "metadata": {
        "id": "X2EZTltC2kbT"
      }
    },
    {
      "cell_type": "code",
      "source": [
        "#----- 1D ARRAY\n",
        "L = [1,2,3,4,5,6,7,8,9,10]\n",
        "\n",
        "ar = np.array(L)\n",
        "\n",
        "ar[2]\n"
      ],
      "metadata": {
        "id": "uQO8u1BP1x7e",
        "colab": {
          "base_uri": "https://localhost:8080/"
        },
        "outputId": "8214c456-3766-413a-c6b7-df3cfbdcce1e"
      },
      "execution_count": 57,
      "outputs": [
        {
          "output_type": "execute_result",
          "data": {
            "text/plain": [
              "3"
            ]
          },
          "metadata": {},
          "execution_count": 57
        }
      ]
    },
    {
      "cell_type": "code",
      "source": [
        "#-----2D ARRAY\n",
        "\n",
        "arr"
      ],
      "metadata": {
        "id": "HBsA_GF24Whf",
        "colab": {
          "base_uri": "https://localhost:8080/"
        },
        "outputId": "2f88945d-a110-4d94-f7cc-68780a688cbe"
      },
      "execution_count": 58,
      "outputs": [
        {
          "output_type": "execute_result",
          "data": {
            "text/plain": [
              "array([[ 1,  2,  3,  4,  5],\n",
              "       [ 6,  7,  8,  9, 10],\n",
              "       [11, 12, 13, 14, 15]])"
            ]
          },
          "metadata": {},
          "execution_count": 58
        }
      ]
    },
    {
      "cell_type": "code",
      "source": [
        "arr[1:,3:]"
      ],
      "metadata": {
        "id": "XJB02TEC5p24",
        "colab": {
          "base_uri": "https://localhost:8080/"
        },
        "outputId": "c0d8f916-616d-4862-ac29-1382fdbc2619"
      },
      "execution_count": 59,
      "outputs": [
        {
          "output_type": "execute_result",
          "data": {
            "text/plain": [
              "array([[ 9, 10],\n",
              "       [14, 15]])"
            ]
          },
          "metadata": {},
          "execution_count": 59
        }
      ]
    },
    {
      "cell_type": "code",
      "source": [
        "arr[0:2,0:2]"
      ],
      "metadata": {
        "id": "5fWgvhoD5pA_",
        "colab": {
          "base_uri": "https://localhost:8080/"
        },
        "outputId": "6aa7c856-faa0-4628-a120-49fd72ea9f39"
      },
      "execution_count": 60,
      "outputs": [
        {
          "output_type": "execute_result",
          "data": {
            "text/plain": [
              "array([[1, 2],\n",
              "       [6, 7]])"
            ]
          },
          "metadata": {},
          "execution_count": 60
        }
      ]
    },
    {
      "cell_type": "code",
      "source": [
        "arr[1,1:4]"
      ],
      "metadata": {
        "id": "U-was58U7J7B",
        "colab": {
          "base_uri": "https://localhost:8080/"
        },
        "outputId": "e8ae87f1-ed59-4489-fb1c-e3d73009b762"
      },
      "execution_count": 61,
      "outputs": [
        {
          "output_type": "execute_result",
          "data": {
            "text/plain": [
              "array([7, 8, 9])"
            ]
          },
          "metadata": {},
          "execution_count": 61
        }
      ]
    },
    {
      "cell_type": "code",
      "source": [
        "#-----Arange-----\n",
        "\n",
        "arr = np.arange(0,20, step = 2)\n",
        "arr"
      ],
      "metadata": {
        "id": "wGvhoKj97cmC",
        "colab": {
          "base_uri": "https://localhost:8080/"
        },
        "outputId": "9dc121e3-39dc-454f-fc34-83331a243069"
      },
      "execution_count": 62,
      "outputs": [
        {
          "output_type": "execute_result",
          "data": {
            "text/plain": [
              "array([ 0,  2,  4,  6,  8, 10, 12, 14, 16, 18])"
            ]
          },
          "metadata": {},
          "execution_count": 62
        }
      ]
    },
    {
      "cell_type": "code",
      "source": [
        "np.linspace(1,10,50)\n"
      ],
      "metadata": {
        "id": "1oNKn_4D72l4",
        "colab": {
          "base_uri": "https://localhost:8080/"
        },
        "outputId": "c8657a98-f863-402a-ee39-62e50228fa76"
      },
      "execution_count": 63,
      "outputs": [
        {
          "output_type": "execute_result",
          "data": {
            "text/plain": [
              "array([ 1.        ,  1.18367347,  1.36734694,  1.55102041,  1.73469388,\n",
              "        1.91836735,  2.10204082,  2.28571429,  2.46938776,  2.65306122,\n",
              "        2.83673469,  3.02040816,  3.20408163,  3.3877551 ,  3.57142857,\n",
              "        3.75510204,  3.93877551,  4.12244898,  4.30612245,  4.48979592,\n",
              "        4.67346939,  4.85714286,  5.04081633,  5.2244898 ,  5.40816327,\n",
              "        5.59183673,  5.7755102 ,  5.95918367,  6.14285714,  6.32653061,\n",
              "        6.51020408,  6.69387755,  6.87755102,  7.06122449,  7.24489796,\n",
              "        7.42857143,  7.6122449 ,  7.79591837,  7.97959184,  8.16326531,\n",
              "        8.34693878,  8.53061224,  8.71428571,  8.89795918,  9.08163265,\n",
              "        9.26530612,  9.44897959,  9.63265306,  9.81632653, 10.        ])"
            ]
          },
          "metadata": {},
          "execution_count": 63
        }
      ]
    },
    {
      "cell_type": "code",
      "source": [
        "#---- Broadcasting -----\n",
        "\n",
        "arr[3:] = 300\n",
        "arr"
      ],
      "metadata": {
        "id": "p3w3T-nTXHSH",
        "colab": {
          "base_uri": "https://localhost:8080/"
        },
        "outputId": "2fdd417b-23a1-41d0-ab89-803c0e57721c"
      },
      "execution_count": 64,
      "outputs": [
        {
          "output_type": "execute_result",
          "data": {
            "text/plain": [
              "array([  0,   2,   4, 300, 300, 300, 300, 300, 300, 300])"
            ]
          },
          "metadata": {},
          "execution_count": 64
        }
      ]
    },
    {
      "cell_type": "code",
      "source": [
        "#---- Copy array ----\n",
        "\n",
        "arr1 = arr.copy()"
      ],
      "metadata": {
        "id": "v3FgW5VTYHJt"
      },
      "execution_count": 65,
      "outputs": []
    },
    {
      "cell_type": "code",
      "source": [
        "print(arr)\n",
        "arr1[3:] = 1000\n",
        "print(arr1)"
      ],
      "metadata": {
        "id": "BDxaI6C9YWF9",
        "colab": {
          "base_uri": "https://localhost:8080/"
        },
        "outputId": "e9d33add-cd4b-4cf7-f7d2-d77bc731af34"
      },
      "execution_count": 66,
      "outputs": [
        {
          "output_type": "stream",
          "name": "stdout",
          "text": [
            "[  0   2   4 300 300 300 300 300 300 300]\n",
            "[   0    2    4 1000 1000 1000 1000 1000 1000 1000]\n"
          ]
        }
      ]
    },
    {
      "cell_type": "code",
      "source": [
        "# Some conditions very useful in Exploratory Data Analysis\n",
        "\n",
        "value = 2\n",
        "arr < 2"
      ],
      "metadata": {
        "id": "PjSf62coZYiR",
        "colab": {
          "base_uri": "https://localhost:8080/"
        },
        "outputId": "0bdcc3c2-06a0-4aa3-f5f6-8dcd15367314"
      },
      "execution_count": 67,
      "outputs": [
        {
          "output_type": "execute_result",
          "data": {
            "text/plain": [
              "array([ True, False, False, False, False, False, False, False, False,\n",
              "       False])"
            ]
          },
          "metadata": {},
          "execution_count": 67
        }
      ]
    },
    {
      "cell_type": "code",
      "source": [
        "#Create array and reshape\n",
        "\n",
        "np.arange(0,10).reshape(5,2)"
      ],
      "metadata": {
        "id": "5gXQuTHhb_-s",
        "colab": {
          "base_uri": "https://localhost:8080/"
        },
        "outputId": "72d881f9-eb5a-441c-a669-47a457449c37"
      },
      "execution_count": 68,
      "outputs": [
        {
          "output_type": "execute_result",
          "data": {
            "text/plain": [
              "array([[0, 1],\n",
              "       [2, 3],\n",
              "       [4, 5],\n",
              "       [6, 7],\n",
              "       [8, 9]])"
            ]
          },
          "metadata": {},
          "execution_count": 68
        }
      ]
    },
    {
      "cell_type": "code",
      "source": [
        "arr[arr<300]"
      ],
      "metadata": {
        "id": "h-FP9ZH82gf9",
        "colab": {
          "base_uri": "https://localhost:8080/"
        },
        "outputId": "fb2693bd-c07b-4eff-8036-fa06334dd505"
      },
      "execution_count": 69,
      "outputs": [
        {
          "output_type": "execute_result",
          "data": {
            "text/plain": [
              "array([0, 2, 4])"
            ]
          },
          "metadata": {},
          "execution_count": 69
        }
      ]
    },
    {
      "cell_type": "code",
      "source": [
        "np.ones(4)"
      ],
      "metadata": {
        "colab": {
          "base_uri": "https://localhost:8080/"
        },
        "id": "momnJ3pE8azj",
        "outputId": "0440b297-aabe-49d0-fd4b-11513206e63a"
      },
      "execution_count": 70,
      "outputs": [
        {
          "output_type": "execute_result",
          "data": {
            "text/plain": [
              "array([1., 1., 1., 1.])"
            ]
          },
          "metadata": {},
          "execution_count": 70
        }
      ]
    },
    {
      "cell_type": "code",
      "source": [
        "print(arr<2)\n",
        "print(arr[0:]<300)"
      ],
      "metadata": {
        "colab": {
          "base_uri": "https://localhost:8080/"
        },
        "id": "R7nDC20V9tyq",
        "outputId": "15bca8d4-8bc9-40c6-cc64-fa800e50a072"
      },
      "execution_count": 71,
      "outputs": [
        {
          "output_type": "stream",
          "name": "stdout",
          "text": [
            "[ True False False False False False False False False False]\n",
            "[ True  True  True False False False False False False False]\n"
          ]
        }
      ]
    },
    {
      "cell_type": "code",
      "source": [
        "arr = arr * 2\n",
        "arr"
      ],
      "metadata": {
        "colab": {
          "base_uri": "https://localhost:8080/"
        },
        "id": "RqPGI0Nf-L7y",
        "outputId": "6fd9036e-614d-4e62-be4a-43dd6c5aa68f"
      },
      "execution_count": 72,
      "outputs": [
        {
          "output_type": "execute_result",
          "data": {
            "text/plain": [
              "array([  0,   4,   8, 600, 600, 600, 600, 600, 600, 600])"
            ]
          },
          "metadata": {},
          "execution_count": 72
        }
      ]
    },
    {
      "cell_type": "code",
      "source": [
        "#----- ones ------\n",
        "#this function creates array with 1\n",
        "#dtype is datatype\n",
        "\n",
        "np.ones(5)"
      ],
      "metadata": {
        "colab": {
          "base_uri": "https://localhost:8080/"
        },
        "id": "PGOR6Ixt-YbJ",
        "outputId": "858c432c-1520-462d-cf60-b4aae58e558e"
      },
      "execution_count": 73,
      "outputs": [
        {
          "output_type": "execute_result",
          "data": {
            "text/plain": [
              "array([1., 1., 1., 1., 1.])"
            ]
          },
          "metadata": {},
          "execution_count": 73
        }
      ]
    },
    {
      "cell_type": "code",
      "source": [
        "np.ones(4, dtype = int)"
      ],
      "metadata": {
        "colab": {
          "base_uri": "https://localhost:8080/"
        },
        "id": "T4_fTv8J_EzT",
        "outputId": "f8cce54a-213e-4093-db60-b3064dd0a9ba"
      },
      "execution_count": 74,
      "outputs": [
        {
          "output_type": "execute_result",
          "data": {
            "text/plain": [
              "array([1, 1, 1, 1])"
            ]
          },
          "metadata": {},
          "execution_count": 74
        }
      ]
    },
    {
      "cell_type": "code",
      "source": [
        "np.ones((2,5), dtype = int)"
      ],
      "metadata": {
        "colab": {
          "base_uri": "https://localhost:8080/"
        },
        "id": "74ouWleWAmBV",
        "outputId": "d63924b5-0865-43ee-fdb5-63b797cc2f2e"
      },
      "execution_count": 75,
      "outputs": [
        {
          "output_type": "execute_result",
          "data": {
            "text/plain": [
              "array([[1, 1, 1, 1, 1],\n",
              "       [1, 1, 1, 1, 1]])"
            ]
          },
          "metadata": {},
          "execution_count": 75
        }
      ]
    },
    {
      "cell_type": "code",
      "source": [
        "np.random.rand(4,4)"
      ],
      "metadata": {
        "colab": {
          "base_uri": "https://localhost:8080/"
        },
        "id": "E8npmSsUA1ID",
        "outputId": "cf07bac0-a538-45e6-ddad-c1361734cac9"
      },
      "execution_count": 76,
      "outputs": [
        {
          "output_type": "execute_result",
          "data": {
            "text/plain": [
              "array([[0.9335077 , 0.69116306, 0.36014296, 0.34306874],\n",
              "       [0.89948377, 0.23637806, 0.43596205, 0.28844569],\n",
              "       [0.24663068, 0.50240075, 0.72520053, 0.54910653],\n",
              "       [0.29986197, 0.13617053, 0.46486043, 0.14815315]])"
            ]
          },
          "metadata": {},
          "execution_count": 76
        }
      ]
    },
    {
      "cell_type": "code",
      "source": [
        "arr_ex = np.random.rand(4,4)\n",
        "arr_ex"
      ],
      "metadata": {
        "colab": {
          "base_uri": "https://localhost:8080/"
        },
        "id": "hE0rO5JECLLr",
        "outputId": "bd7286d6-4370-4e65-a8bb-7d1b4f10688f"
      },
      "execution_count": 77,
      "outputs": [
        {
          "output_type": "execute_result",
          "data": {
            "text/plain": [
              "array([[0.33750626, 0.27591839, 0.0945031 , 0.28694277],\n",
              "       [0.72666855, 0.77892845, 0.90871672, 0.72458848],\n",
              "       [0.03008859, 0.89724194, 0.36992731, 0.50550768],\n",
              "       [0.61878038, 0.41703074, 0.69235196, 0.0451741 ]])"
            ]
          },
          "metadata": {},
          "execution_count": 77
        }
      ]
    },
    {
      "cell_type": "code",
      "source": [
        "import seaborn as sns\n",
        "import pandas as pd"
      ],
      "metadata": {
        "id": "l3rpN14iB4ED"
      },
      "execution_count": 78,
      "outputs": []
    },
    {
      "cell_type": "code",
      "source": [
        "sns.displot(pd.DataFrame(arr_ex.reshape(16,1)))"
      ],
      "metadata": {
        "colab": {
          "base_uri": "https://localhost:8080/",
          "height": 523
        },
        "id": "ABTU6SV2B9-g",
        "outputId": "e8d51f74-b932-4c0b-ad5e-791968a71e1b"
      },
      "execution_count": 79,
      "outputs": [
        {
          "output_type": "execute_result",
          "data": {
            "text/plain": [
              "<seaborn.axisgrid.FacetGrid at 0x7a56a1e71ba0>"
            ]
          },
          "metadata": {},
          "execution_count": 79
        },
        {
          "output_type": "display_data",
          "data": {
            "text/plain": [
              "<Figure size 558.75x500 with 1 Axes>"
            ],
            "image/png": "[encoded data removed]"
          },
          "metadata": {}
        }
      ]
    },
    {
      "cell_type": "code",
      "source": [
        "np.random.randint(0,100,8).reshape(4,2)"
      ],
      "metadata": {
        "colab": {
          "base_uri": "https://localhost:8080/"
        },
        "id": "LNQNSLYxCuiG",
        "outputId": "b836c35f-7bc6-4970-acba-05ff8cc7d85a"
      },
      "execution_count": 80,
      "outputs": [
        {
          "output_type": "execute_result",
          "data": {
            "text/plain": [
              "array([[ 6, 36],\n",
              "       [ 7, 68],\n",
              "       [79, 99],\n",
              "       [95, 71]])"
            ]
          },
          "metadata": {},
          "execution_count": 80
        }
      ]
    },
    {
      "cell_type": "code",
      "source": [
        "np.random.random_sample((1,5))"
      ],
      "metadata": {
        "colab": {
          "base_uri": "https://localhost:8080/"
        },
        "id": "tH0jlEDaDjLn",
        "outputId": "b3d7f6f8-26a8-4484-c895-43cceb2c7e52"
      },
      "execution_count": 81,
      "outputs": [
        {
          "output_type": "execute_result",
          "data": {
            "text/plain": [
              "array([[0.20501053, 0.80403015, 0.72090917, 0.16578535, 0.18392086]])"
            ]
          },
          "metadata": {},
          "execution_count": 81
        }
      ]
    }
  ]
}