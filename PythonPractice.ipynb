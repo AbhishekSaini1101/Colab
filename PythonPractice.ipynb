{
  "nbformat": 4,
  "nbformat_minor": 0,
  "metadata": {
    "colab": {
      "provenance": [],
      "gpuType": "T4",
      "authorship_tag": "ABX9TyOQsgLQz4fgpdiXuxEG33DQ",
      "include_colab_link": true
    },
    "kernelspec": {
      "name": "python3",
      "display_name": "Python 3"
    },
    "language_info": {
      "name": "python"
    },
    "accelerator": "GPU"
  },
  "cells": [
    {
      "cell_type": "markdown",
      "metadata": {
        "id": "view-in-github",
        "colab_type": "text"
      },
      "source": [
        "<a href=\"https://colab.research.google.com/github/AbhishekSaini1101/Colab/blob/main/PythonPractice.ipynb\" target=\"_parent\"><img src=\"https://colab.research.google.com/assets/colab-badge.svg\" alt=\"Open In Colab\"/></a>"
      ]
    },
    {
      "cell_type": "code",
      "source": [
        "\n"
      ],
      "metadata": {
        "id": "YHYurWYjf5Yf"
      },
      "execution_count": null,
      "outputs": []
    },
    {
      "cell_type": "code",
      "execution_count": 1,
      "metadata": {
        "id": "_tDairrfdNii",
        "colab": {
          "base_uri": "https://localhost:8080/"
        },
        "outputId": "d4ed112a-70c2-4a50-f3e1-5a6c33c75c52"
      },
      "outputs": [
        {
          "output_type": "stream",
          "name": "stdout",
          "text": [
            "134513856513296\n"
          ]
        }
      ],
      "source": [
        "x = 34\n",
        "print(id(x)) #Here id is used to show the location of variable"
      ]
    },
    {
      "cell_type": "code",
      "source": [],
      "metadata": {
        "id": "ObNB0Dk_e4Tm"
      },
      "execution_count": 1,
      "outputs": []
    },
    {
      "cell_type": "code",
      "source": [
        "x = 34; y = 3.4\n",
        "\n",
        "print(x+y)\n",
        "#Implicit type conversion ( when language itself convert the type)\n",
        "#Here 34 is int and 3.4 is float\n",
        "#When we added int + float we got the ans in Int\n",
        "\n",
        "Number = int(input(\"Enter any number\"))\n",
        "#Input function takes input in string from user.\n",
        "#We convert Str to int\n",
        "#Explicit type conversion when user tells language to convert data type."
      ],
      "metadata": {
        "id": "3AAmXXTkdgYj",
        "outputId": "2a263865-4e52-4ab0-f2e8-eb55ba182c7c",
        "colab": {
          "base_uri": "https://localhost:8080/"
        }
      },
      "execution_count": 2,
      "outputs": [
        {
          "name": "stdout",
          "output_type": "stream",
          "text": [
            "37.4\n",
            "Enter any number6556\n"
          ]
        }
      ]
    },
    {
      "cell_type": "code",
      "source": [
        "#One dimensional List\n",
        "L1 = [1, 2,3,4]\n",
        "print(L1[2])\n",
        "\n",
        "#Two dimensional list\n",
        "#List inside list\n",
        "L2 = [1,2,[3,4], [5,6,7]]\n",
        "print(L2[0])\n",
        "print(L2[3][0])\n",
        "\n",
        "TempL = L2[3]\n",
        "print(TempL[0])\n",
        "\n",
        "#Multi Dimensional List\n",
        "L4 = [[0,1],[[2,3],[4,5]]]\n",
        "#we need to print 4 from List\n",
        "print(L4[1][1][0])"
      ],
      "metadata": {
        "id": "jLl94Hndq9BO",
        "colab": {
          "base_uri": "https://localhost:8080/"
        },
        "outputId": "ab9b37be-c4e9-4e25-f420-b754746f4fc6"
      },
      "execution_count": 3,
      "outputs": [
        {
          "output_type": "stream",
          "name": "stdout",
          "text": [
            "3\n",
            "1\n",
            "5\n",
            "5\n",
            "4\n"
          ]
        }
      ]
    },
    {
      "cell_type": "markdown",
      "source": [
        "NUMPY"
      ],
      "metadata": {
        "id": "Aj-g6P8MxzQQ"
      }
    },
    {
      "cell_type": "code",
      "source": [
        "import numpy as np\n",
        "\n",
        "L = [1,2,3,4,5,6,7,8,9,10]\n",
        "print(L)\n",
        "\n",
        "arr = np.array(L)\n",
        "print(arr)"
      ],
      "metadata": {
        "id": "kVszur57xwx_",
        "colab": {
          "base_uri": "https://localhost:8080/"
        },
        "outputId": "541b1f64-6d59-4e62-f310-b81d7103a71b"
      },
      "execution_count": 4,
      "outputs": [
        {
          "output_type": "stream",
          "name": "stdout",
          "text": [
            "[1, 2, 3, 4, 5, 6, 7, 8, 9, 10]\n",
            "[ 1  2  3  4  5  6  7  8  9 10]\n"
          ]
        }
      ]
    },
    {
      "cell_type": "code",
      "source": [
        "type(arr)"
      ],
      "metadata": {
        "id": "XkV5sIfJy0CI",
        "colab": {
          "base_uri": "https://localhost:8080/"
        },
        "outputId": "d3e336ab-961d-4f32-e0c7-85d0819d75ea"
      },
      "execution_count": 5,
      "outputs": [
        {
          "output_type": "execute_result",
          "data": {
            "text/plain": [
              "numpy.ndarray"
            ]
          },
          "metadata": {},
          "execution_count": 5
        }
      ]
    },
    {
      "cell_type": "code",
      "source": [
        "L1 = [1,2,3,4,5]\n",
        "L2 = [6,7,8,9,10]\n",
        "L3 = [11,12,13,14,15]\n",
        "\n",
        "#arr = np.array(L1)\n",
        "arr = np.array([L1, L2, L3])"
      ],
      "metadata": {
        "id": "30_VPVxQzD_Y"
      },
      "execution_count": 6,
      "outputs": []
    },
    {
      "cell_type": "code",
      "source": [
        "arr"
      ],
      "metadata": {
        "id": "bhnh80JtzGRq",
        "colab": {
          "base_uri": "https://localhost:8080/"
        },
        "outputId": "d01cf835-95a2-41c5-e9e8-88733dcba6ca"
      },
      "execution_count": 7,
      "outputs": [
        {
          "output_type": "execute_result",
          "data": {
            "text/plain": [
              "array([[ 1,  2,  3,  4,  5],\n",
              "       [ 6,  7,  8,  9, 10],\n",
              "       [11, 12, 13, 14, 15]])"
            ]
          },
          "metadata": {},
          "execution_count": 7
        }
      ]
    },
    {
      "cell_type": "code",
      "source": [
        "arr.shape"
      ],
      "metadata": {
        "id": "2aOC1Sfw01_s",
        "colab": {
          "base_uri": "https://localhost:8080/"
        },
        "outputId": "d3b649f0-9ad7-4302-9cd3-d2bb7c2ef823"
      },
      "execution_count": 8,
      "outputs": [
        {
          "output_type": "execute_result",
          "data": {
            "text/plain": [
              "(3, 5)"
            ]
          },
          "metadata": {},
          "execution_count": 8
        }
      ]
    },
    {
      "cell_type": "code",
      "source": [
        "  arr.reshape(5,3)"
      ],
      "metadata": {
        "id": "GqD3JuOL1AFs",
        "colab": {
          "base_uri": "https://localhost:8080/"
        },
        "outputId": "635090fa-e13c-428c-b3e4-17cff900c530"
      },
      "execution_count": 9,
      "outputs": [
        {
          "output_type": "execute_result",
          "data": {
            "text/plain": [
              "array([[ 1,  2,  3],\n",
              "       [ 4,  5,  6],\n",
              "       [ 7,  8,  9],\n",
              "       [10, 11, 12],\n",
              "       [13, 14, 15]])"
            ]
          },
          "metadata": {},
          "execution_count": 9
        }
      ]
    },
    {
      "cell_type": "markdown",
      "source": [
        "# --------**-Indexing**----------------"
      ],
      "metadata": {
        "id": "X2EZTltC2kbT"
      }
    },
    {
      "cell_type": "code",
      "source": [
        "#----- 1D ARRAY\n",
        "L = [1,2,3,4,5,6,7,8,9,10]\n",
        "\n",
        "ar = np.array(L)\n",
        "\n",
        "ar[2]\n"
      ],
      "metadata": {
        "id": "uQO8u1BP1x7e",
        "colab": {
          "base_uri": "https://localhost:8080/"
        },
        "outputId": "7f91ea33-dd4c-4562-a83e-1da9b039af9b"
      },
      "execution_count": 10,
      "outputs": [
        {
          "output_type": "execute_result",
          "data": {
            "text/plain": [
              "3"
            ]
          },
          "metadata": {},
          "execution_count": 10
        }
      ]
    },
    {
      "cell_type": "code",
      "source": [
        "#-----2D ARRAY\n",
        "\n",
        "arr"
      ],
      "metadata": {
        "id": "HBsA_GF24Whf",
        "colab": {
          "base_uri": "https://localhost:8080/"
        },
        "outputId": "b3a53357-4ba6-499c-e0a0-e0ed80303e0f"
      },
      "execution_count": 11,
      "outputs": [
        {
          "output_type": "execute_result",
          "data": {
            "text/plain": [
              "array([[ 1,  2,  3,  4,  5],\n",
              "       [ 6,  7,  8,  9, 10],\n",
              "       [11, 12, 13, 14, 15]])"
            ]
          },
          "metadata": {},
          "execution_count": 11
        }
      ]
    },
    {
      "cell_type": "code",
      "source": [
        "arr[1:,3:]"
      ],
      "metadata": {
        "id": "XJB02TEC5p24",
        "colab": {
          "base_uri": "https://localhost:8080/"
        },
        "outputId": "9e2201f5-5e10-4ccb-b294-abe398c787ca"
      },
      "execution_count": 12,
      "outputs": [
        {
          "output_type": "execute_result",
          "data": {
            "text/plain": [
              "array([[ 9, 10],\n",
              "       [14, 15]])"
            ]
          },
          "metadata": {},
          "execution_count": 12
        }
      ]
    },
    {
      "cell_type": "code",
      "source": [
        "arr[0:2,0:2]"
      ],
      "metadata": {
        "id": "5fWgvhoD5pA_",
        "colab": {
          "base_uri": "https://localhost:8080/"
        },
        "outputId": "27dedecb-85d8-4476-a0a9-f544baaabc47"
      },
      "execution_count": 13,
      "outputs": [
        {
          "output_type": "execute_result",
          "data": {
            "text/plain": [
              "array([[1, 2],\n",
              "       [6, 7]])"
            ]
          },
          "metadata": {},
          "execution_count": 13
        }
      ]
    },
    {
      "cell_type": "code",
      "source": [
        "arr[1,1:4]"
      ],
      "metadata": {
        "id": "U-was58U7J7B",
        "colab": {
          "base_uri": "https://localhost:8080/"
        },
        "outputId": "7fbf6e1e-d847-42d9-c538-63df824a778f"
      },
      "execution_count": 14,
      "outputs": [
        {
          "output_type": "execute_result",
          "data": {
            "text/plain": [
              "array([7, 8, 9])"
            ]
          },
          "metadata": {},
          "execution_count": 14
        }
      ]
    },
    {
      "cell_type": "code",
      "source": [
        "#-----Arange-----\n",
        "\n",
        "arr = np.arange(0,20, step = 2)\n",
        "arr"
      ],
      "metadata": {
        "id": "wGvhoKj97cmC",
        "colab": {
          "base_uri": "https://localhost:8080/"
        },
        "outputId": "97c340f1-b7d3-43aa-9a4e-2b9736a3dd21"
      },
      "execution_count": 15,
      "outputs": [
        {
          "output_type": "execute_result",
          "data": {
            "text/plain": [
              "array([ 0,  2,  4,  6,  8, 10, 12, 14, 16, 18])"
            ]
          },
          "metadata": {},
          "execution_count": 15
        }
      ]
    },
    {
      "cell_type": "code",
      "source": [
        "np.linspace(1,10,50)\n"
      ],
      "metadata": {
        "id": "1oNKn_4D72l4",
        "colab": {
          "base_uri": "https://localhost:8080/"
        },
        "outputId": "76aea44a-ee72-4411-99b7-4afc4b659dda"
      },
      "execution_count": 16,
      "outputs": [
        {
          "output_type": "execute_result",
          "data": {
            "text/plain": [
              "array([ 1.        ,  1.18367347,  1.36734694,  1.55102041,  1.73469388,\n",
              "        1.91836735,  2.10204082,  2.28571429,  2.46938776,  2.65306122,\n",
              "        2.83673469,  3.02040816,  3.20408163,  3.3877551 ,  3.57142857,\n",
              "        3.75510204,  3.93877551,  4.12244898,  4.30612245,  4.48979592,\n",
              "        4.67346939,  4.85714286,  5.04081633,  5.2244898 ,  5.40816327,\n",
              "        5.59183673,  5.7755102 ,  5.95918367,  6.14285714,  6.32653061,\n",
              "        6.51020408,  6.69387755,  6.87755102,  7.06122449,  7.24489796,\n",
              "        7.42857143,  7.6122449 ,  7.79591837,  7.97959184,  8.16326531,\n",
              "        8.34693878,  8.53061224,  8.71428571,  8.89795918,  9.08163265,\n",
              "        9.26530612,  9.44897959,  9.63265306,  9.81632653, 10.        ])"
            ]
          },
          "metadata": {},
          "execution_count": 16
        }
      ]
    },
    {
      "cell_type": "code",
      "source": [
        "#---- Broadcasting -----\n",
        "\n",
        "arr[3:] = 300\n",
        "arr"
      ],
      "metadata": {
        "id": "p3w3T-nTXHSH",
        "colab": {
          "base_uri": "https://localhost:8080/"
        },
        "outputId": "2c630ee1-649a-430a-861d-596f9f464868"
      },
      "execution_count": 17,
      "outputs": [
        {
          "output_type": "execute_result",
          "data": {
            "text/plain": [
              "array([  0,   2,   4, 300, 300, 300, 300, 300, 300, 300])"
            ]
          },
          "metadata": {},
          "execution_count": 17
        }
      ]
    },
    {
      "cell_type": "code",
      "source": [
        "#---- Copy array ----\n",
        "\n",
        "arr1 = arr.copy()"
      ],
      "metadata": {
        "id": "v3FgW5VTYHJt"
      },
      "execution_count": 18,
      "outputs": []
    },
    {
      "cell_type": "code",
      "source": [
        "print(arr)\n",
        "arr1[3:] = 1000\n",
        "print(arr1)"
      ],
      "metadata": {
        "id": "BDxaI6C9YWF9",
        "colab": {
          "base_uri": "https://localhost:8080/"
        },
        "outputId": "aa66827d-ce76-424a-9d91-78f29bf040a7"
      },
      "execution_count": 19,
      "outputs": [
        {
          "output_type": "stream",
          "name": "stdout",
          "text": [
            "[  0   2   4 300 300 300 300 300 300 300]\n",
            "[   0    2    4 1000 1000 1000 1000 1000 1000 1000]\n"
          ]
        }
      ]
    },
    {
      "cell_type": "code",
      "source": [
        "# Some conditions very useful in Exploratory Data Analysis\n",
        "\n",
        "value = 2\n",
        "arr < 2"
      ],
      "metadata": {
        "id": "PjSf62coZYiR",
        "colab": {
          "base_uri": "https://localhost:8080/"
        },
        "outputId": "25628821-91a3-42e5-b60b-8316bf6fcddf"
      },
      "execution_count": 20,
      "outputs": [
        {
          "output_type": "execute_result",
          "data": {
            "text/plain": [
              "array([ True, False, False, False, False, False, False, False, False,\n",
              "       False])"
            ]
          },
          "metadata": {},
          "execution_count": 20
        }
      ]
    },
    {
      "cell_type": "code",
      "source": [
        "#Create array and reshape\n",
        "\n",
        "np.arange(0,10).reshape(5,2)"
      ],
      "metadata": {
        "id": "5gXQuTHhb_-s",
        "colab": {
          "base_uri": "https://localhost:8080/"
        },
        "outputId": "08b8ce74-37fd-4a11-a171-8f95986e6233"
      },
      "execution_count": 21,
      "outputs": [
        {
          "output_type": "execute_result",
          "data": {
            "text/plain": [
              "array([[0, 1],\n",
              "       [2, 3],\n",
              "       [4, 5],\n",
              "       [6, 7],\n",
              "       [8, 9]])"
            ]
          },
          "metadata": {},
          "execution_count": 21
        }
      ]
    },
    {
      "cell_type": "code",
      "source": [
        "arr[arr<300]"
      ],
      "metadata": {
        "id": "h-FP9ZH82gf9",
        "colab": {
          "base_uri": "https://localhost:8080/"
        },
        "outputId": "f279c6ba-01bc-4d40-f432-5ac73b56833c"
      },
      "execution_count": 22,
      "outputs": [
        {
          "output_type": "execute_result",
          "data": {
            "text/plain": [
              "array([0, 2, 4])"
            ]
          },
          "metadata": {},
          "execution_count": 22
        }
      ]
    },
    {
      "cell_type": "code",
      "source": [
        "np.ones(4)"
      ],
      "metadata": {
        "colab": {
          "base_uri": "https://localhost:8080/"
        },
        "id": "momnJ3pE8azj",
        "outputId": "40e36eb4-bccf-473c-8e2e-4542a57f3f6b"
      },
      "execution_count": 23,
      "outputs": [
        {
          "output_type": "execute_result",
          "data": {
            "text/plain": [
              "array([1., 1., 1., 1.])"
            ]
          },
          "metadata": {},
          "execution_count": 23
        }
      ]
    },
    {
      "cell_type": "code",
      "source": [
        "print(arr<2)\n",
        "print(arr[0:]<300)"
      ],
      "metadata": {
        "id": "R7nDC20V9tyq",
        "outputId": "792cee5b-7c08-47c4-ed7d-106022246246",
        "colab": {
          "base_uri": "https://localhost:8080/"
        }
      },
      "execution_count": 25,
      "outputs": [
        {
          "output_type": "stream",
          "name": "stdout",
          "text": [
            "[ True False False False False False False False False False]\n",
            "[ True  True  True False False False False False False False]\n"
          ]
        }
      ]
    },
    {
      "cell_type": "code",
      "source": [
        "arr = arr * 2\n",
        "arr"
      ],
      "metadata": {
        "id": "RqPGI0Nf-L7y",
        "outputId": "5f85f374-a4c2-421f-f4db-51fe420a2c41",
        "colab": {
          "base_uri": "https://localhost:8080/"
        }
      },
      "execution_count": 28,
      "outputs": [
        {
          "output_type": "execute_result",
          "data": {
            "text/plain": [
              "array([  0,   4,   8, 600, 600, 600, 600, 600, 600, 600])"
            ]
          },
          "metadata": {},
          "execution_count": 28
        }
      ]
    },
    {
      "cell_type": "code",
      "source": [
        "#----- ones ------\n",
        "#this function creates array with 1\n",
        "#dtype is datatype\n",
        "\n",
        "np.ones(5)"
      ],
      "metadata": {
        "id": "PGOR6Ixt-YbJ",
        "outputId": "20d1ff8b-a55c-4d2f-9faa-a1a2e2afa4fb",
        "colab": {
          "base_uri": "https://localhost:8080/"
        }
      },
      "execution_count": 33,
      "outputs": [
        {
          "output_type": "execute_result",
          "data": {
            "text/plain": [
              "array([1., 1., 1., 1., 1.])"
            ]
          },
          "metadata": {},
          "execution_count": 33
        }
      ]
    },
    {
      "cell_type": "code",
      "source": [
        "np.ones(4, dtype = int)"
      ],
      "metadata": {
        "id": "T4_fTv8J_EzT",
        "outputId": "6445bcbb-009d-4412-b221-495741def223",
        "colab": {
          "base_uri": "https://localhost:8080/"
        }
      },
      "execution_count": 34,
      "outputs": [
        {
          "output_type": "execute_result",
          "data": {
            "text/plain": [
              "array([1, 1, 1, 1])"
            ]
          },
          "metadata": {},
          "execution_count": 34
        }
      ]
    },
    {
      "cell_type": "code",
      "source": [
        "np.ones((2,5), dtype = int)"
      ],
      "metadata": {
        "id": "74ouWleWAmBV",
        "outputId": "ffe5c36a-223f-4ac5-dad7-2ce43d97342f",
        "colab": {
          "base_uri": "https://localhost:8080/"
        }
      },
      "execution_count": 35,
      "outputs": [
        {
          "output_type": "execute_result",
          "data": {
            "text/plain": [
              "array([[1, 1, 1, 1, 1],\n",
              "       [1, 1, 1, 1, 1]])"
            ]
          },
          "metadata": {},
          "execution_count": 35
        }
      ]
    },
    {
      "cell_type": "code",
      "source": [
        "np.random.rand(4,4)"
      ],
      "metadata": {
        "id": "E8npmSsUA1ID",
        "outputId": "a3acd9f2-7005-4cb9-ee14-3ddf90e52e17",
        "colab": {
          "base_uri": "https://localhost:8080/"
        }
      },
      "execution_count": 36,
      "outputs": [
        {
          "output_type": "execute_result",
          "data": {
            "text/plain": [
              "array([[0.02706697, 0.75739849, 0.0982571 , 0.65270658],\n",
              "       [0.74471981, 0.70237721, 0.02554777, 0.06935337],\n",
              "       [0.98108268, 0.64273135, 0.97314043, 0.54850741],\n",
              "       [0.12545169, 0.70312196, 0.06012692, 0.6008468 ]])"
            ]
          },
          "metadata": {},
          "execution_count": 36
        }
      ]
    },
    {
      "cell_type": "code",
      "source": [
        "arr_ex = np.random.rand(4,4)\n",
        "arr_ex"
      ],
      "metadata": {
        "id": "hE0rO5JECLLr",
        "outputId": "438da110-4514-4d9f-e63b-bd274da4696c",
        "colab": {
          "base_uri": "https://localhost:8080/"
        }
      },
      "execution_count": 44,
      "outputs": [
        {
          "output_type": "execute_result",
          "data": {
            "text/plain": [
              "array([[0.31315431, 0.74978985, 0.97206599, 0.30797484],\n",
              "       [0.65265075, 0.98077733, 0.85244345, 0.96907632],\n",
              "       [0.40334291, 0.80320295, 0.61735452, 0.42683627],\n",
              "       [0.39835183, 0.38000235, 0.39705206, 0.73079932]])"
            ]
          },
          "metadata": {},
          "execution_count": 44
        }
      ]
    },
    {
      "cell_type": "code",
      "source": [
        "import seaborn as sns\n",
        "import pandas as pd"
      ],
      "metadata": {
        "id": "l3rpN14iB4ED"
      },
      "execution_count": 37,
      "outputs": []
    },
    {
      "cell_type": "code",
      "source": [
        "sns.displot(pd.DataFrame(arr_ex.reshape(16,1)))"
      ],
      "metadata": {
        "id": "ABTU6SV2B9-g",
        "outputId": "86671726-10c7-4976-fed2-fc030d4308f8",
        "colab": {
          "base_uri": "https://localhost:8080/",
          "height": 523
        }
      },
      "execution_count": 45,
      "outputs": [
        {
          "output_type": "execute_result",
          "data": {
            "text/plain": [
              "<seaborn.axisgrid.FacetGrid at 0x7a56a25ba8f0>"
            ]
          },
          "metadata": {},
          "execution_count": 45
        },
        {
          "output_type": "display_data",
          "data": {
            "text/plain": [
              "<Figure size 558.75x500 with 1 Axes>"
            ],
            "image/png": "[encoded data removed]"
          },
          "metadata": {}
        }
      ]
    },
    {
      "cell_type": "code",
      "source": [
        "np.random.randint(0,100,8).reshape(4,2)"
      ],
      "metadata": {
        "id": "LNQNSLYxCuiG",
        "outputId": "a775bfe6-64ee-4762-9cb2-e574da7f2bc6",
        "colab": {
          "base_uri": "https://localhost:8080/"
        }
      },
      "execution_count": 46,
      "outputs": [
        {
          "output_type": "execute_result",
          "data": {
            "text/plain": [
              "array([[55, 44],\n",
              "       [18, 72],\n",
              "       [25, 35],\n",
              "       [54, 49]])"
            ]
          },
          "metadata": {},
          "execution_count": 46
        }
      ]
    },
    {
      "cell_type": "code",
      "source": [
        "np.random.random_sample((1,5))"
      ],
      "metadata": {
        "id": "tH0jlEDaDjLn",
        "outputId": "34deeaac-c2d4-4de7-d0ad-fc9011ff9735",
        "colab": {
          "base_uri": "https://localhost:8080/"
        }
      },
      "execution_count": 47,
      "outputs": [
        {
          "output_type": "execute_result",
          "data": {
            "text/plain": [
              "array([[0.01868208, 0.27888949, 0.11672804, 0.0669219 , 0.01377383]])"
            ]
          },
          "metadata": {},
          "execution_count": 47
        }
      ]
    }
  ]
}